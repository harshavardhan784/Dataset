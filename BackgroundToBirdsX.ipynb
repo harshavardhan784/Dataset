{
  "cells": [
    {
      "cell_type": "markdown",
      "metadata": {
        "id": "view-in-github",
        "colab_type": "text"
      },
      "source": [
        "<a href=\"https://colab.research.google.com/github/harshavardhan784/Dataset/blob/main/BackgroundToBirdsX.ipynb\" target=\"_parent\"><img src=\"https://colab.research.google.com/assets/colab-badge.svg\" alt=\"Open In Colab\"/></a>"
      ]
    },
    {
      "cell_type": "code",
      "execution_count": null,
      "metadata": {
        "colab": {
          "base_uri": "https://localhost:8080/"
        },
        "id": "el6v3g8BWIwO",
        "outputId": "36dacec1-c0a2-4a17-e395-016f6c2e6e92"
      },
      "outputs": [
        {
          "output_type": "stream",
          "name": "stdout",
          "text": [
            "Drive already mounted at /content/drive; to attempt to forcibly remount, call drive.mount(\"/content/drive\", force_remount=True).\n"
          ]
        }
      ],
      "source": [
        "from google.colab import drive\n",
        "drive.mount('/content/drive')"
      ]
    },
    {
      "cell_type": "code",
      "execution_count": null,
      "metadata": {
        "id": "6UE1dRlw0eku"
      },
      "outputs": [],
      "source": [
        "import os\n",
        "import numpy as np\n",
        "from sklearn.model_selection import train_test_split\n",
        "import matplotlib.pyplot as plt\n",
        "from PIL import Image\n"
      ]
    },
    {
      "cell_type": "code",
      "execution_count": null,
      "metadata": {
        "id": "YRoPvJ9zzq2g"
      },
      "outputs": [],
      "source": [
        "# Directories\n",
        "birds_dir = '/content/drive/My Drive/RBCDSAI/Datasets/Datasets/Waterbird Datasets/NewDataset/BirdsSegmented/'\n",
        "backgrounds_dir = '/content/drive/My Drive/RBCDSAI/Datasets/Datasets/Waterbird Datasets/NewDataset/Background/'\n",
        "\n",
        "output_dir = '/content/drive/My Drive/RBCDSAI/Datasets/Datasets/Waterbird Datasets/NewDataset/Splits/'\n",
        "\n",
        "# Subdirectories\n",
        "categories = {\n",
        "    'WaterBirds': os.path.join(birds_dir, 'WaterBirds'),\n",
        "    'LandBirds': os.path.join(birds_dir, 'LandBirds'),\n",
        "}\n",
        "\n",
        "# Function to load and resize images from a directory\n",
        "def load_and_resize_images_from_dir(dir_path, target_size=(256, 256)):\n",
        "    images = []\n",
        "    for filename in os.listdir(dir_path):\n",
        "        if filename.endswith('.jpg') or filename.endswith('.png'):  # Adjust based on your image file types\n",
        "            img_path = os.path.join(dir_path, filename)\n",
        "            with Image.open(img_path) as img:\n",
        "                img = img.resize(target_size)\n",
        "                img_array = np.array(img)\n",
        "                images.append(img_array)\n",
        "    return np.array(images)\n",
        "\n",
        "# Load and split images\n",
        "splits = {}\n",
        "for category, path in categories.items():\n",
        "    images = load_and_resize_images_from_dir(path)\n",
        "    train_images, test_images = train_test_split(images, test_size=0.2, random_state=42)\n",
        "    splits[f'{category}_train'] = train_images\n",
        "    splits[f'{category}_test'] = test_images\n",
        "    print(f'{category} - train: {len(train_images)}, test: {len(test_images)}')\n",
        "\n",
        "# Save splits to npy files\n",
        "os.makedirs(output_dir, exist_ok=True)\n",
        "for split_name, split_data in splits.items():\n",
        "    np.save(os.path.join(output_dir, f'{split_name}.npy'), split_data)\n",
        "\n",
        "print(\"Splitting and saving completed.\")\n"
      ]
    },
    {
      "cell_type": "code",
      "execution_count": null,
      "metadata": {
        "id": "q679CeXQ_PbA"
      },
      "outputs": [],
      "source": [
        "import os\n",
        "import numpy as np\n",
        "from sklearn.model_selection import train_test_split\n",
        "from PIL import Image\n",
        "\n",
        "# Directories\n",
        "birds_dir = '/content/drive/My Drive/RBCDSAI/Datasets/Datasets/Waterbird Datasets/NewDataset/BirdsSegmented/'\n",
        "backgrounds_dir = '/content/drive/My Drive/RBCDSAI/Datasets/Datasets/Waterbird Datasets/NewDataset/Background/'\n",
        "\n",
        "output_dir = '/content/drive/My Drive/RBCDSAI/Datasets/Datasets/Waterbird Datasets/NewDataset/Splits/'\n",
        "\n",
        "\n",
        "# Subdirectories\n",
        "categories = {\n",
        "    'WaterBackgrounds': os.path.join(backgrounds_dir, 'WaterBackgrounds'),\n",
        "    'LandBackgrounds': os.path.join(backgrounds_dir, 'LandBackgrounds'),\n",
        "}\n",
        "\n",
        "# Function to load and resize images from a directory\n",
        "def load_and_resize_images_from_dir(dir_path, target_size=(256, 256)):\n",
        "    images = []\n",
        "    for filename in os.listdir(dir_path):\n",
        "        if filename.endswith('.jpg') or filename.endswith('.png'):  # Adjust based on your image file types\n",
        "            img_path = os.path.join(dir_path, filename)\n",
        "            with Image.open(img_path) as img:\n",
        "                img = img.resize(target_size).convert('RGB')\n",
        "                img_array = np.array(img)\n",
        "                images.append(img_array)\n",
        "    return np.array(images)\n",
        "\n",
        "# Load and split images\n",
        "splits = {}\n",
        "for category, path in categories.items():\n",
        "    images = load_and_resize_images_from_dir(path)\n",
        "    train_images, test_images = train_test_split(images, test_size=0.2, random_state=42)\n",
        "    splits[f'{category}_train'] = train_images\n",
        "    splits[f'{category}_test'] = test_images\n",
        "    print(f'{category} - train: {len(train_images)}, test: {len(test_images)}')\n",
        "\n",
        "# Save splits to npy files\n",
        "os.makedirs(output_dir, exist_ok=True)\n",
        "for split_name, split_data in splits.items():\n",
        "    np.save(os.path.join(output_dir, f'{split_name}.npy'), split_data)\n",
        "\n",
        "print(\"Splitting and saving completed.\")\n"
      ]
    },
    {
      "cell_type": "code",
      "execution_count": null,
      "metadata": {
        "id": "nygph8QqzqxN"
      },
      "outputs": [],
      "source": [
        "import numpy as np\n",
        "import matplotlib.pyplot as plt\n",
        "\n",
        "# Directories\n",
        "train_data_dir = '/content/drive/My Drive/RBCDSAI/Datasets/Datasets/Waterbird Datasets/NewDataset/Traindata/'\n",
        "test_data_dir = '/content/drive/My Drive/RBCDSAI/Datasets/Datasets/Waterbird Datasets/NewDataset/Testdata/'\n",
        "\n",
        "# Load numpy files\n",
        "train_land_backgrounds = np.load(train_data_dir + 'LandBackgrounds_train.npy')\n",
        "train_water_backgrounds = np.load(train_data_dir + 'WaterBackgrounds_train.npy')\n",
        "train_seg_water_birds = np.load(train_data_dir + 'Seg_WaterBirds_train.npy')\n",
        "train_seg_land_birds = np.load(train_data_dir + 'Seg_LandBirds_train.npy')\n",
        "\n",
        "test_land_backgrounds = np.load(test_data_dir + 'LandBackgrounds_test.npy')\n",
        "test_water_backgrounds = np.load(test_data_dir + 'WaterBackgrounds_test.npy')\n",
        "test_seg_water_birds = np.load(test_data_dir + 'Seg_WaterBirds_test.npy')\n",
        "test_seg_land_birds = np.load(test_data_dir + 'Seg_LandBirds_test.npy')\n",
        "\n",
        "# Function to plot images\n",
        "def plot_images(images, title):\n",
        "    fig, axes = plt.subplots(2, 5, figsize=(15, 6))\n",
        "    axes = axes.flatten()\n",
        "    for i in range(10):\n",
        "        axes[i].imshow(images[i])\n",
        "        axes[i].axis('off')\n",
        "    fig.suptitle(title)\n",
        "    plt.tight_layout()\n",
        "    plt.show()\n",
        "\n",
        "# Function to print sizes\n",
        "def print_sizes(images, title):\n",
        "    print(f'{title} size: {images.shape}')\n",
        "\n",
        "# Print sizes of loaded arrays\n",
        "print_sizes(train_land_backgrounds, 'Train Land Backgrounds')\n",
        "print_sizes(train_water_backgrounds, 'Train Water Backgrounds')\n",
        "print_sizes(train_seg_water_birds, 'Train Segmented Water Birds')\n",
        "print_sizes(train_seg_land_birds, 'Train Segmented Land Birds')\n",
        "print_sizes(test_land_backgrounds, 'Test Land Backgrounds')\n",
        "print_sizes(test_water_backgrounds, 'Test Water Backgrounds')\n",
        "print_sizes(test_seg_water_birds, 'Test Segmented Water Birds')\n",
        "print_sizes(test_seg_land_birds, 'Test Segmented Land Birds')\n",
        "\n",
        "# Plotting 10 images for each category\n",
        "plot_images(train_land_backgrounds, 'Train Land Backgrounds')\n",
        "plot_images(train_water_backgrounds, 'Train Water Backgrounds')\n",
        "plot_images(train_seg_water_birds, 'Train Segmented Water Birds')\n",
        "plot_images(train_seg_land_birds, 'Train Segmented Land Birds')\n",
        "plot_images(test_land_backgrounds, 'Test Land Backgrounds')\n",
        "plot_images(test_water_backgrounds, 'Test Water Backgrounds')\n",
        "plot_images(test_seg_water_birds, 'Test Segmented Water Birds')\n",
        "plot_images(test_seg_land_birds, 'Test Segmented Land Birds')\n"
      ]
    },
    {
      "cell_type": "markdown",
      "metadata": {
        "id": "Oa3ulPQSGBPM"
      },
      "source": [
        "20% segmented birds test data"
      ]
    },
    {
      "cell_type": "code",
      "source": [
        "import numpy as np\n",
        "\n",
        "# Directories\n",
        "# train_data_dir = '/content/drive/My Drive/RBCDSAI/Datasets/Datasets/Waterbird Datasets/NewDataset/Traindata/'\n",
        "test_data_dir = '/content/drive/My Drive/RBCDSAI/Datasets/Datasets/Waterbird Datasets/NewDataset/Testdata/'\n",
        "output_dir = '/content/drive/My Drive/RBCDSAI/Datasets/Datasets/Waterbird Datasets/NewDataset/Testdata/Seg_birds_test/'\n",
        "\n",
        "# Load numpy files\n",
        "train_seg_land_birds = np.load(test_data_dir + 'Seg_LandBirds_test.npy')\n",
        "train_seg_water_birds = np.load(test_data_dir + 'Seg_WaterBirds_test.npy')\n",
        "\n",
        "# Combine data and labels\n",
        "test_data = np.concatenate((train_seg_land_birds, train_seg_water_birds), axis=0)\n",
        "test_labels = np.concatenate((np.zeros(train_seg_land_birds.shape[0]), np.ones(train_seg_water_birds.shape[0])), axis=0)\n",
        "\n",
        "# Shuffle data and labels together\n",
        "p = np.random.permutation(len(test_data))\n",
        "test_data = test_data[p]\n",
        "test_labels = test_labels[p]\n",
        "\n",
        "# Print sizes of combined arrays\n",
        "print(f'Test data size: {test_data.shape}')\n",
        "print(f'Test labels size: {test_labels.shape}')\n",
        "\n",
        "# Save arrays to npy files\n",
        "np.save(output_dir + 'test_data.npy', test_data)\n",
        "np.save(output_dir + 'test_labels.npy', test_labels)\n",
        "\n",
        "print(\"Test data and labels saved.\")\n"
      ],
      "metadata": {
        "id": "kFRZWtDsNTgW"
      },
      "execution_count": null,
      "outputs": []
    },
    {
      "cell_type": "markdown",
      "metadata": {
        "id": "vqltMHCAGSM0"
      },
      "source": [
        "20% Standard data x = 100"
      ]
    },
    {
      "cell_type": "code",
      "execution_count": null,
      "metadata": {
        "id": "P4m227PQJr2S"
      },
      "outputs": [],
      "source": [
        "import numpy as np\n",
        "import os\n",
        "\n",
        "# Directories and file paths for numpy arrays\n",
        "birds_dir = '/content/drive/My Drive/RBCDSAI/Datasets/Datasets/Waterbird Datasets/NewDataset/Testdata/Seg_LandBirds_test.npy'\n",
        "backgrounds_dir = '/content/drive/My Drive/RBCDSAI/Datasets/Datasets/Waterbird Datasets/NewDataset/Testdata/LandBackgrounds_test.npy'\n",
        "output_dir = '/content/drive/My Drive/RBCDSAI/Experiment4/Datasets/Waterbird Datasets/NewDataset/Testdata/Standard_birds_test100/'\n",
        "\n",
        "# Ensure output directory exists\n",
        "os.makedirs(output_dir, exist_ok=True)\n",
        "\n",
        "# Load numpy arrays\n",
        "birds_array = np.load(birds_dir)\n",
        "backgrounds_array = np.load(backgrounds_dir)\n",
        "\n",
        "# Ensure the number of bird images and background images are the same\n",
        "assert len(birds_array) == len(backgrounds_array), \"Number of bird images and background images must be the same\"\n",
        "\n",
        "# Arrays to store combined images\n",
        "combined_images = []\n",
        "\n",
        "# Iterate through each pair of bird and background images\n",
        "for bird_array, background_array in zip(birds_array, backgrounds_array):\n",
        "    # Create a mask where the bird pixels are not black\n",
        "    mask = bird_array[..., :3] != [0, 0, 0]\n",
        "    mask = mask.all(axis=-1)\n",
        "\n",
        "    # Combine the bird and background arrays using the mask\n",
        "    combined_array = np.where(mask[..., None], bird_array, background_array)\n",
        "\n",
        "    # Append to combined images list\n",
        "    combined_images.append(combined_array)\n",
        "\n",
        "# Convert list to numpy array\n",
        "combined_images_np = np.array(combined_images)\n",
        "\n",
        "# Save combined images as .npy file\n",
        "output_file = os.path.join(output_dir, 'Combined_LandBirds_and_Backgrounds.npy')\n",
        "np.save(output_file, combined_images_np)\n",
        "\n",
        "print(f\"Combined images saved as .npy file: {output_file}\")\n"
      ]
    },
    {
      "cell_type": "code",
      "execution_count": null,
      "metadata": {
        "id": "Buf7EEcyzqsN"
      },
      "outputs": [],
      "source": [
        "import numpy as np\n",
        "import os\n",
        "\n",
        "# Directories and file paths for numpy arrays\n",
        "birds_dir = '/content/drive/My Drive/RBCDSAI/Datasets/Datasets/Waterbird Datasets/NewDataset/Testdata/Seg_WaterBirds_test.npy'\n",
        "backgrounds_dir = '/content/drive/My Drive/RBCDSAI/Datasets/Datasets/Waterbird Datasets/NewDataset/Testdata/WaterBackgrounds_test.npy'\n",
        "output_dir = '/content/drive/My Drive/RBCDSAI/Experiment4/Datasets/Waterbird Datasets/NewDataset/Testdata/Standard_birds_test100/'\n",
        "\n",
        "# Ensure output directory exists\n",
        "os.makedirs(output_dir, exist_ok=True)\n",
        "\n",
        "# Load numpy arrays\n",
        "birds_array = np.load(birds_dir)\n",
        "backgrounds_array = np.load(backgrounds_dir)\n",
        "\n",
        "# Ensure the number of bird images and background images are the same\n",
        "assert len(birds_array) == len(backgrounds_array), \"Number of bird images and background images must be the same\"\n",
        "\n",
        "# Arrays to store combined images\n",
        "combined_images = []\n",
        "\n",
        "# Iterate through each pair of bird and background images\n",
        "for bird_array, background_array in zip(birds_array, backgrounds_array):\n",
        "    # Create a mask where the bird pixels are not black\n",
        "    mask = bird_array[..., :3] != [0, 0, 0]\n",
        "    mask = mask.all(axis=-1)\n",
        "\n",
        "    # Combine the bird and background arrays using the mask\n",
        "    combined_array = np.where(mask[..., None], bird_array, background_array)\n",
        "\n",
        "    # Append to combined images list\n",
        "    combined_images.append(combined_array)\n",
        "\n",
        "# Convert list to numpy array\n",
        "combined_images_np = np.array(combined_images)\n",
        "\n",
        "# Save combined images as .npy file\n",
        "output_file = os.path.join(output_dir, 'Combined_WaterBirds_and_Backgrounds.npy')\n",
        "np.save(output_file, combined_images_np)\n",
        "\n",
        "print(f\"Combined images saved as .npy file: {output_file}\")\n"
      ]
    },
    {
      "cell_type": "code",
      "source": [
        "import numpy as np\n",
        "import os\n",
        "\n",
        "# Directories and file paths for numpy arrays\n",
        "output_dir = '/content/drive/My Drive/RBCDSAI/Experiment4/Datasets/Waterbird Datasets/NewDataset/Testdata/Standard_birds_test100/'\n",
        "\n",
        "# Load the two numpy arrays\n",
        "file1_path = os.path.join(output_dir, 'Combined_LandBirds_and_Backgrounds.npy')\n",
        "file2_path = os.path.join(output_dir, 'Combined_WaterBirds_and_Backgrounds.npy')\n",
        "\n",
        "combined_file1 = np.load(file1_path)\n",
        "combined_file2 = np.load(file2_path)\n",
        "\n",
        "# Combine the arrays\n",
        "combined_data = np.concatenate((combined_file1, combined_file2), axis=0)\n",
        "\n",
        "# Create labels\n",
        "labels_file1 = np.zeros(len(combined_file1), dtype=np.int32)  # Label 0 for LandBirds\n",
        "labels_file2 = np.ones(len(combined_file2), dtype=np.int32)   # Label 1 for WaterBirds\n",
        "combined_labels = np.concatenate((labels_file1, labels_file2), axis=0)\n",
        "\n",
        "# Save combined data and labels as .npy files\n",
        "combined_data_output_path = os.path.join(output_dir, 'Test_data_Standard100.npy')\n",
        "combined_labels_output_path = os.path.join(output_dir, 'Test_labels_Standard100.npy')\n",
        "\n",
        "np.save(combined_data_output_path, combined_data)\n",
        "np.save(combined_labels_output_path, combined_labels)\n",
        "\n",
        "print(f\"Combined data saved as .npy file: {combined_data_output_path}\")\n",
        "print(f\"Combined labels saved as .npy file: {combined_labels_output_path}\")\n"
      ],
      "metadata": {
        "id": "iNOzAPAuOkqT"
      },
      "execution_count": null,
      "outputs": []
    },
    {
      "cell_type": "code",
      "execution_count": null,
      "metadata": {
        "id": "eOQtbua7zqk8"
      },
      "outputs": [],
      "source": [
        "import os\n",
        "\n",
        "# Directories and file paths for numpy arrays\n",
        "output_dir = '/content/drive/My Drive/RBCDSAI/Experiment4/Datasets/Waterbird Datasets/NewDataset/Testdata/Standard_birds_test100/'\n",
        "\n",
        "# Print the list of files in the output directory\n",
        "print(os.listdir(output_dir))\n",
        "\n",
        "# Function to load and count images in a numpy array file\n",
        "def count_images_in_npy(file_path):\n",
        "    array = np.load(file_path)\n",
        "    return len(array)\n",
        "\n",
        "# Count images in Combined_LandBirds_and_Backgrounds.npy\n",
        "file1_path = os.path.join(output_dir, 'Test_data_Standard100.npy')\n",
        "num_images_file1 = count_images_in_npy(file1_path)\n",
        "\n",
        "\n",
        "# Print the number of images in each file\n",
        "print(f\"Number of images in Combined_LandBirds_and_Backgrounds.npy: {num_images_file1}\")\n"
      ]
    },
    {
      "cell_type": "markdown",
      "source": [
        "80% Train data Standard"
      ],
      "metadata": {
        "id": "dxpKRe5iQF-1"
      }
    },
    {
      "cell_type": "code",
      "execution_count": null,
      "metadata": {
        "id": "O34C4MKLzqiN"
      },
      "outputs": [],
      "source": [
        "import numpy as np\n",
        "import os\n",
        "\n",
        "# Directories and file paths for numpy arrays\n",
        "birds_dir = '/content/drive/My Drive/RBCDSAI/Datasets/Datasets/Waterbird Datasets/NewDataset/Traindata/Seg_LandBirds_train.npy'\n",
        "backgrounds_dir = '/content/drive/My Drive/RBCDSAI/Datasets/Datasets/Waterbird Datasets/NewDataset/Traindata/LandBackgrounds_train.npy'\n",
        "output_dir = '/content/drive/My Drive/RBCDSAI/Experiment4/Datasets/Waterbird Datasets/NewDataset/Traindata/Standard_birds_train100/'\n",
        "\n",
        "# Ensure output directory exists\n",
        "os.makedirs(output_dir, exist_ok=True)\n",
        "\n",
        "# Load numpy arrays\n",
        "birds_array = np.load(birds_dir)\n",
        "backgrounds_array = np.load(backgrounds_dir)\n",
        "\n",
        "# Ensure the number of bird images and background images are the same\n",
        "assert len(birds_array) == len(backgrounds_array), \"Number of bird images and background images must be the same\"\n",
        "\n",
        "# Arrays to store combined images\n",
        "combined_images = []\n",
        "\n",
        "# Iterate through each pair of bird and background images\n",
        "for bird_array, background_array in zip(birds_array, backgrounds_array):\n",
        "    # Create a mask where the bird pixels are not black\n",
        "    mask = bird_array[..., :3] != [0, 0, 0]\n",
        "    mask = mask.all(axis=-1)\n",
        "\n",
        "    # Combine the bird and background arrays using the mask\n",
        "    combined_array = np.where(mask[..., None], bird_array, background_array)\n",
        "\n",
        "    # Append to combined images list\n",
        "    combined_images.append(combined_array)\n",
        "\n",
        "# Convert list to numpy array\n",
        "combined_images_np = np.array(combined_images)\n",
        "\n",
        "# Save combined images as .npy file\n",
        "output_file = os.path.join(output_dir, 'Combined_LandBirds_and_Backgrounds.npy')\n",
        "np.save(output_file, combined_images_np)\n",
        "\n",
        "print(f\"Combined images saved as .npy file: {output_file}\")\n"
      ]
    },
    {
      "cell_type": "code",
      "execution_count": null,
      "metadata": {
        "id": "usZg1aztzqf4"
      },
      "outputs": [],
      "source": [
        "import numpy as np\n",
        "import os\n",
        "\n",
        "# Directories and file paths for numpy arrays\n",
        "birds_dir = '/content/drive/My Drive/RBCDSAI/Datasets/Datasets/Waterbird Datasets/NewDataset/Traindata/Seg_WaterBirds_train.npy'\n",
        "backgrounds_dir = '/content/drive/My Drive/RBCDSAI/Datasets/Datasets/Waterbird Datasets/NewDataset/Traindata/WaterBackgrounds_train.npy'\n",
        "output_dir = '/content/drive/My Drive/RBCDSAI/Experiment4/Datasets/Waterbird Datasets/NewDataset/Traindata/Standard_birds_train100/'\n",
        "\n",
        "# Ensure output directory exists\n",
        "os.makedirs(output_dir, exist_ok=True)\n",
        "\n",
        "# Load numpy arrays\n",
        "birds_array = np.load(birds_dir)\n",
        "backgrounds_array = np.load(backgrounds_dir)\n",
        "\n",
        "# Ensure the number of bird images and background images are the same\n",
        "assert len(birds_array) == len(backgrounds_array), \"Number of bird images and background images must be the same\"\n",
        "\n",
        "# Arrays to store combined images\n",
        "combined_images = []\n",
        "\n",
        "# Iterate through each pair of bird and background images\n",
        "for bird_array, background_array in zip(birds_array, backgrounds_array):\n",
        "    # Create a mask where the bird pixels are not black\n",
        "    mask = bird_array[..., :3] != [0, 0, 0]\n",
        "    mask = mask.all(axis=-1)\n",
        "\n",
        "    # Combine the bird and background arrays using the mask\n",
        "    combined_array = np.where(mask[..., None], bird_array, background_array)\n",
        "\n",
        "    # Append to combined images list\n",
        "    combined_images.append(combined_array)\n",
        "\n",
        "# Convert list to numpy array\n",
        "combined_images_np = np.array(combined_images)\n",
        "\n",
        "# Save combined images as .npy file\n",
        "output_file = os.path.join(output_dir, 'Combined_WaterBirds_and_Backgrounds.npy')\n",
        "np.save(output_file, combined_images_np)\n",
        "\n",
        "print(f\"Combined images saved as .npy file: {output_file}\")\n"
      ]
    },
    {
      "cell_type": "code",
      "execution_count": null,
      "metadata": {
        "id": "XzTKG5yjzqdo"
      },
      "outputs": [],
      "source": [
        "import numpy as np\n",
        "import os\n",
        "\n",
        "# Directories and file paths for numpy arrays\n",
        "output_dir = '/content/drive/My Drive/RBCDSAI/Experiment4/Datasets/Waterbird Datasets/NewDataset/Traindata/Standard_birds_train100/'\n",
        "\n",
        "# Load the two numpy arrays\n",
        "file1_path = os.path.join(output_dir, 'Combined_LandBirds_and_Backgrounds.npy')\n",
        "file2_path = os.path.join(output_dir, 'Combined_WaterBirds_and_Backgrounds.npy')\n",
        "\n",
        "combined_file1 = np.load(file1_path)\n",
        "combined_file2 = np.load(file2_path)\n",
        "\n",
        "# Combine the arrays\n",
        "combined_data = np.concatenate((combined_file1, combined_file2), axis=0)\n",
        "\n",
        "# Create labels\n",
        "labels_file1 = np.zeros(len(combined_file1), dtype=np.int32)  # Label 0 for LandBirds\n",
        "labels_file2 = np.ones(len(combined_file2), dtype=np.int32)   # Label 1 for WaterBirds\n",
        "combined_labels = np.concatenate((labels_file1, labels_file2), axis=0)\n",
        "\n",
        "# Save combined data and labels as .npy files\n",
        "combined_data_output_path = os.path.join(output_dir, 'Train_data_Standard100.npy')\n",
        "combined_labels_output_path = os.path.join(output_dir, 'Train_labels_Standard100.npy')\n",
        "\n",
        "np.save(combined_data_output_path, combined_data)\n",
        "np.save(combined_labels_output_path, combined_labels)\n",
        "\n",
        "print(f\"Combined data saved as .npy file: {combined_data_output_path}\")\n",
        "print(f\"Combined labels saved as .npy file: {combined_labels_output_path}\")\n"
      ]
    },
    {
      "cell_type": "code",
      "execution_count": null,
      "metadata": {
        "id": "5Za_a9e3zqbL"
      },
      "outputs": [],
      "source": [
        "import os\n",
        "\n",
        "# Directories and file paths for numpy arrays\n",
        "output_dir = '/content/drive/My Drive/RBCDSAI/Experiment4/Datasets/Waterbird Datasets/NewDataset/Traindata/Standard_birds_train100/'\n",
        "\n",
        "# Print the list of files in the output directory\n",
        "print(os.listdir(output_dir))\n",
        "\n",
        "# Function to load and count images in a numpy array file\n",
        "def count_images_in_npy(file_path):\n",
        "    array = np.load(file_path)\n",
        "    return len(array)\n",
        "\n",
        "# Count images in Combined_LandBirds_and_Backgrounds.npy\n",
        "file1_path = os.path.join(output_dir, 'Train_data_Standard100.npy')\n",
        "num_images_file1 = count_images_in_npy(file1_path)\n",
        "\n",
        "\n",
        "# Print the number of images in each file\n",
        "print(f\"Number of images in Combined_LandBirds_and_Backgrounds.npy: {num_images_file1}\")\n"
      ]
    },
    {
      "cell_type": "markdown",
      "source": [
        "Train Data 75% Direct + 5% Inverse Correlation"
      ],
      "metadata": {
        "id": "GHCkgRN-Q8yF"
      }
    },
    {
      "cell_type": "code",
      "source": [
        "import os\n",
        "\n",
        "output_dir = '/content/drive/My Drive/RBCDSAI/Datasets/Datasets/Waterbird Datasets/NewDataset/Traindata/'\n",
        "\n",
        "# List all files in the directory\n",
        "files = os.listdir(output_dir)\n",
        "\n",
        "files"
      ],
      "metadata": {
        "colab": {
          "base_uri": "https://localhost:8080/"
        },
        "id": "vx40JtKPR-fr",
        "outputId": "d572a8d1-6342-42f7-c45c-b6621f627413"
      },
      "execution_count": null,
      "outputs": [
        {
          "output_type": "execute_result",
          "data": {
            "text/plain": [
              "['Seg_LandBirds_train.npy',\n",
              " 'Seg_WaterBirds_train.npy',\n",
              " 'WaterBackgrounds_train.npy',\n",
              " 'LandBackgrounds_train.npy',\n",
              " 'Standard_birds_train100']"
            ]
          },
          "metadata": {},
          "execution_count": 3
        }
      ]
    },
    {
      "cell_type": "code",
      "source": [
        "import numpy as np\n",
        "import os\n",
        "\n",
        "# Directories and file paths for numpy arrays\n",
        "output_dir = '/content/drive/My Drive/RBCDSAI/Datasets/Datasets/Waterbird Datasets/NewDataset/Traindata/'\n",
        "\n",
        "# Load numpy arrays\n",
        "seg_water_birds = np.load(os.path.join(output_dir, 'Seg_WaterBirds_train.npy'))\n",
        "seg_land_birds = np.load(os.path.join(output_dir, 'Seg_LandBirds_train.npy'))\n",
        "water_backgrounds = np.load(os.path.join(output_dir, 'WaterBackgrounds_train.npy'))\n",
        "land_backgrounds = np.load(os.path.join(output_dir, 'LandBackgrounds_train.npy'))\n",
        "\n",
        "# Number of images to split\n",
        "split_count = 589\n",
        "\n",
        "# Split and save Segmented Water Birds\n",
        "seg_water_birds_first = seg_water_birds[:split_count]\n",
        "seg_water_birds_rest = seg_water_birds[split_count:]\n",
        "\n",
        "# Split and save Segmented Land Birds\n",
        "seg_land_birds_first = seg_land_birds[:split_count]\n",
        "seg_land_birds_rest = seg_land_birds[split_count:]\n",
        "\n",
        "# Split and save Water Backgrounds\n",
        "water_backgrounds_first = water_backgrounds[:split_count]\n",
        "water_backgrounds_rest = water_backgrounds[split_count:]\n",
        "\n",
        "# Split and save Land Backgrounds\n",
        "land_backgrounds_first = land_backgrounds[:split_count]\n",
        "land_backgrounds_rest = land_backgrounds[split_count:]\n",
        "\n",
        "print(\"Split and saved first 589 images and rest as separate .npy files.\")\n"
      ],
      "metadata": {
        "colab": {
          "base_uri": "https://localhost:8080/"
        },
        "id": "TIb58yBzR-cN",
        "outputId": "ce02e411-774e-41e2-857c-c7f5e4b8b266"
      },
      "execution_count": null,
      "outputs": [
        {
          "output_type": "stream",
          "name": "stdout",
          "text": [
            "Split and saved first 589 images and rest as separate .npy files.\n"
          ]
        }
      ]
    },
    {
      "cell_type": "code",
      "source": [
        "import numpy as np\n",
        "import os\n",
        "\n",
        "def combine(birds_array, backgrounds_array, output_dir):\n",
        "\n",
        "  # Ensure the number of bird images and background images are the same\n",
        "  assert len(birds_array) == len(backgrounds_array), \"Number of bird images and background images must be the same\"\n",
        "\n",
        "  # Arrays to store combined images\n",
        "  combined_images = []\n",
        "\n",
        "  # Iterate through each pair of bird and background images\n",
        "  for bird_array, background_array in zip(birds_array, backgrounds_array):\n",
        "      # Create a mask where the bird pixels are not black\n",
        "      mask = bird_array[..., :3] != [0, 0, 0]\n",
        "      mask = mask.all(axis=-1)\n",
        "\n",
        "      # Combine the bird and background arrays using the mask\n",
        "      combined_array = np.where(mask[..., None], bird_array, background_array)\n",
        "\n",
        "      # Append to combined images list\n",
        "      combined_images.append(combined_array)\n",
        "\n",
        "  # Convert list to numpy array\n",
        "  combined_images_np = np.array(combined_images)\n",
        "\n",
        "  # Save combined images as .npy file\n",
        "  # output_file = os.path.join(output_dir, 'Combined_LandBirds_and_Backgrounds.npy')\n",
        "  # np.save(output_file, combined_images_np)\n",
        "\n",
        "  # print(f\"Combined images saved as .npy file: {output_file}\")\n",
        "  return combined_images_np\n"
      ],
      "metadata": {
        "id": "Vte5SGKkR-aM"
      },
      "execution_count": null,
      "outputs": []
    },
    {
      "cell_type": "code",
      "source": [
        "output_dir = '/content/drive/My Drive/RBCDSAI/Datasets/Datasets/Waterbird Datasets/NewDataset/Traindata/birds_train95'\n"
      ],
      "metadata": {
        "id": "UqWjpVGdVdsP"
      },
      "execution_count": null,
      "outputs": []
    },
    {
      "cell_type": "code",
      "source": [
        "waterbirds_5 = combine(seg_water_birds_first, land_backgrounds_first, output_dir)"
      ],
      "metadata": {
        "id": "9dtrZVEmQ8cL"
      },
      "execution_count": null,
      "outputs": []
    },
    {
      "cell_type": "code",
      "source": [
        "landbirds_5 = combine(seg_land_birds_first, water_backgrounds_first, output_dir)"
      ],
      "metadata": {
        "id": "GbtNayqsQVAm"
      },
      "execution_count": null,
      "outputs": []
    },
    {
      "cell_type": "code",
      "source": [
        "waterbirds_75 = combine(seg_water_birds_rest, water_backgrounds_rest, output_dir)"
      ],
      "metadata": {
        "id": "w7W5fqeiQU8_"
      },
      "execution_count": null,
      "outputs": []
    },
    {
      "cell_type": "code",
      "source": [
        "landbirds_75 = combine(seg_land_birds_rest, land_backgrounds_rest, output_dir)"
      ],
      "metadata": {
        "id": "dXkmzK1oQU6-"
      },
      "execution_count": null,
      "outputs": []
    },
    {
      "cell_type": "code",
      "source": [
        "print(len(waterbirds_5),len(landbirds_5),len(waterbirds_75),len(landbirds_75))"
      ],
      "metadata": {
        "colab": {
          "base_uri": "https://localhost:8080/"
        },
        "id": "4QmTkzbkQU49",
        "outputId": "2ae45bc8-db50-458f-f01e-71496957d2b9"
      },
      "execution_count": null,
      "outputs": [
        {
          "output_type": "stream",
          "name": "stdout",
          "text": [
            "589 589 1349 6903\n"
          ]
        }
      ]
    },
    {
      "cell_type": "code",
      "source": [
        "import numpy as np\n",
        "import os\n",
        "\n",
        "# Create labels\n",
        "labels_waterbirds_5 = np.ones(len(waterbirds_5), dtype=int)\n",
        "labels_landbirds_5 = np.zeros(len(landbirds_5), dtype=int)\n",
        "labels_waterbirds_75 = np.ones(len(waterbirds_75), dtype=int)\n",
        "labels_landbirds_75 = np.zeros(len(landbirds_75), dtype=int)\n",
        "\n",
        "# Combine images and labels\n",
        "images_combined = np.concatenate((waterbirds_5, landbirds_5, waterbirds_75, landbirds_75), axis=0)\n",
        "labels_combined = np.concatenate((labels_waterbirds_5, labels_landbirds_5, labels_waterbirds_75, labels_landbirds_75), axis=0)\n",
        "\n",
        "# Save combined images and labels as .npy files\n",
        "np.save(os.path.join(output_dir, 'Train_data95.npy'), images_combined)\n",
        "np.save(os.path.join(output_dir, 'Train_labels95.npy'), labels_combined)\n",
        "\n",
        "print(\"Combined images and labels saved as .npy files.\")\n"
      ],
      "metadata": {
        "colab": {
          "base_uri": "https://localhost:8080/"
        },
        "id": "s77y42U9QU2z",
        "outputId": "52d602a3-ec85-4485-e020-6734bc713553"
      },
      "execution_count": null,
      "outputs": [
        {
          "output_type": "stream",
          "name": "stdout",
          "text": [
            "Combined images and labels saved as .npy files.\n"
          ]
        }
      ]
    },
    {
      "cell_type": "code",
      "source": [],
      "metadata": {
        "id": "UqwFcubaXI9Z"
      },
      "execution_count": null,
      "outputs": []
    },
    {
      "cell_type": "code",
      "source": [],
      "metadata": {
        "id": "I_SxPPgoXI53"
      },
      "execution_count": null,
      "outputs": []
    },
    {
      "cell_type": "code",
      "source": [],
      "metadata": {
        "id": "BKI7bKC2XI3v"
      },
      "execution_count": null,
      "outputs": []
    },
    {
      "cell_type": "code",
      "source": [],
      "metadata": {
        "id": "kBatjvjhQU0r"
      },
      "execution_count": null,
      "outputs": []
    },
    {
      "cell_type": "code",
      "source": [],
      "metadata": {
        "id": "1frC9YYxQUyL"
      },
      "execution_count": null,
      "outputs": []
    },
    {
      "cell_type": "code",
      "execution_count": null,
      "metadata": {
        "id": "SD0eXVvAzqYI"
      },
      "outputs": [],
      "source": []
    },
    {
      "cell_type": "code",
      "execution_count": null,
      "metadata": {
        "id": "y9UhUsihzqVK"
      },
      "outputs": [],
      "source": []
    },
    {
      "cell_type": "code",
      "execution_count": null,
      "metadata": {
        "id": "j3erPUdHzqSp"
      },
      "outputs": [],
      "source": []
    },
    {
      "cell_type": "code",
      "execution_count": null,
      "metadata": {
        "id": "oT8w_mwpzqPK"
      },
      "outputs": [],
      "source": []
    },
    {
      "cell_type": "code",
      "execution_count": null,
      "metadata": {
        "id": "xUV0Jwd2zqKI"
      },
      "outputs": [],
      "source": []
    },
    {
      "cell_type": "code",
      "execution_count": null,
      "metadata": {
        "id": "7Zaw0FBhhgO2"
      },
      "outputs": [],
      "source": [
        "import os\n",
        "\n",
        "len(os.listdir('/content/drive/My Drive/RBCDSAI/Experiment4/Datasets/Waterbird Datasets/NewDataset/Background/LandBackgrounds'))"
      ]
    },
    {
      "cell_type": "code",
      "execution_count": null,
      "metadata": {
        "id": "NF3RXdjS8_gQ"
      },
      "outputs": [],
      "source": [
        "birds_dir = '/content/drive/My Drive/RBCDSAI/Experiment4/Datasets/Waterbird Datasets/NewDataset/BirdsSegmented/LandBirds/'\n",
        "folder = os.listdir(birds_dir)\n",
        "print(len(folder))"
      ]
    },
    {
      "cell_type": "code",
      "execution_count": null,
      "metadata": {
        "id": "Jx5x6jskcHSl"
      },
      "outputs": [],
      "source": [
        "import os\n",
        "import numpy as np\n",
        "from PIL import Image\n",
        "from sklearn.model_selection import train_test_split\n",
        "import matplotlib.pyplot as plt\n",
        "\n",
        "# Directories\n",
        "birds_dir = '/content/drive/My Drive/RBCDSAI/Experiment4/Datasets/Waterbird Datasets/NewDataset/BirdsSegmented/'\n",
        "backgrounds_dir = '/content/drive/My Drive/RBCDSAI/Experiment4/Datasets/Waterbird Datasets/NewDataset/Background/'\n",
        "output_dir = '/content/drive/My Drive/RBCDSAI/Experiment4/Datasets/Waterbird Datasets/NewDataset/Birds95/LandBirdImages/'\n",
        "\n",
        "# Ensure output directory exists\n",
        "os.makedirs(output_dir, exist_ok=True)\n",
        "\n",
        "# Function to load images\n",
        "def load_images_from_folder(folder):\n",
        "    images = []\n",
        "    for filename in os.listdir(folder):\n",
        "        img = Image.open(os.path.join(folder, filename)).convert(\"RGBA\")\n",
        "        if img is not None:\n",
        "            images.append(img)\n",
        "    return images\n",
        "\n",
        "# Load all images\n",
        "land_birds = load_images_from_folder(os.path.join(birds_dir, 'LandBirds'))\n",
        "water_birds = load_images_from_folder(os.path.join(birds_dir, 'WaterBirds'))\n",
        "land_backgrounds = load_images_from_folder(os.path.join(backgrounds_dir, 'LandBackgrounds'))\n",
        "water_backgrounds = load_images_from_folder(os.path.join(backgrounds_dir, 'WaterBackgrounds'))\n",
        "\n",
        "# Split data into train and test sets (80-20 split)\n",
        "land_birds_train, land_birds_test, land_backgrounds_train, land_backgrounds_test = train_test_split(land_birds, land_backgrounds, test_size=0.2, random_state=42)\n",
        "water_birds_train, water_birds_test, water_backgrounds_train, water_backgrounds_test = train_test_split(water_birds, water_backgrounds, test_size=0.2, random_state=42)\n",
        "\n",
        "# Function to combine bird and background images\n",
        "def combine_images(bird_img, background_img):\n",
        "    bird_img = bird_img.resize((256, 256), Image.LANCZOS)\n",
        "    background_img = background_img.resize((256, 256), Image.LANCZOS)\n",
        "    bird_array = np.array(bird_img)\n",
        "    background_array = np.array(background_img)\n",
        "    mask = bird_array[..., :3] != [0, 0, 0]\n",
        "    mask = mask.all(axis=-1)\n",
        "    combined_array = np.where(mask[..., None], bird_array, background_array)\n",
        "    return Image.fromarray(combined_array, 'RGBA').convert(\"RGB\")\n",
        "\n",
        "# Function to create the dataset\n",
        "def create_dataset(bird_images, background_images, correlation=\"direct\"):\n",
        "    combined_images = []\n",
        "    labels = []\n",
        "    for bird_img, background_img in zip(bird_images, background_images):\n",
        "        if correlation == \"inverse\":\n",
        "            background_img = water_backgrounds_train[np.random.randint(0, len(water_backgrounds_train))] if bird_img in land_birds_train else land_backgrounds_train[np.random.randint(0, len(land_backgrounds_train))]\n",
        "        combined_image = combine_images(bird_img, background_img)\n",
        "        combined_images.append(np.array(combined_image))\n",
        "        labels.append(0 if bird_img in land_birds_train or bird_img in land_birds_test else 1)  # 0 for land bird, 1 for water bird\n",
        "    return np.array(combined_images), np.array(labels)\n",
        "\n",
        "# Create training dataset (75% direct correlation, 5% inverse correlation)\n",
        "land_birds_train_75 = land_birds_train[:int(0.75 * len(land_birds_train))]\n",
        "land_birds_train_5 = land_birds_train[int(0.75 * len(land_birds_train)):]\n",
        "water_birds_train_75 = water_birds_train[:int(0.75 * len(water_birds_train))]\n",
        "water_birds_train_5 = water_birds_train[int(0.75 * len(water_birds_train)):]\n",
        "\n",
        "train_images_75, train_labels_75 = create_dataset(land_birds_train_75 + water_birds_train_75, land_backgrounds_train + water_backgrounds_train, correlation=\"direct\")\n",
        "train_images_5, train_labels_5 = create_dataset(land_birds_train_5 + water_birds_train_5, land_backgrounds_train + water_backgrounds_train, correlation=\"inverse\")\n",
        "train_images = np.concatenate((train_images_75, train_images_5))\n",
        "train_labels = np.concatenate((train_labels_75, train_labels_5))\n",
        "\n",
        "# Create test dataset (20% direct correlation)\n",
        "test_images, test_labels = create_dataset(land_birds_test + water_birds_test, land_backgrounds_test + water_backgrounds_test, correlation=\"direct\")\n",
        "\n",
        "# Save combined images and labels as numpy files\n",
        "np.save(os.path.join(output_dir, 'train_images.npy'), train_images)\n",
        "np.save(os.path.join(output_dir, 'train_labels.npy'), train_labels)\n",
        "np.save(os.path.join(output_dir, 'test_images.npy'), test_images)\n",
        "np.save(os.path.join(output_dir, 'test_labels.npy'), test_labels)\n",
        "\n",
        "# Plot some test images\n",
        "n_images_to_plot = min(20, len(test_images))\n",
        "\n",
        "plt.figure(figsize=(20, 10))\n",
        "for i in range(n_images_to_plot):\n",
        "    img = test_images[i]\n",
        "\n",
        "    plt.subplot(4, 5, i + 1)  # 4 rows, 5 columns\n",
        "    plt.imshow(img)\n",
        "    plt.axis('off')\n",
        "    plt.title(f\"Label {test_labels[i]}\")\n",
        "\n",
        "plt.tight_layout()\n",
        "plt.show()\n",
        "\n",
        "print(f\"Combined images and labels saved in: {output_dir}\")\n"
      ]
    },
    {
      "cell_type": "code",
      "execution_count": null,
      "metadata": {
        "id": "a84TMhQ_l4bj"
      },
      "outputs": [],
      "source": [
        "from PIL import Image\n",
        "import os\n",
        "import matplotlib.pyplot as plt\n",
        "import numpy as np\n",
        "\n",
        "# Directories\n",
        "birds_dir = '/content/drive/My Drive/RBCDSAI/Experiment4/Datasets/Waterbird Datasets/NewDataset/BirdsSegmented/LandBirds/'\n",
        "backgrounds_dir = '/content/drive/My Drive/RBCDSAI/Experiment4/Datasets/Waterbird Datasets/NewDataset/Background/LandBackgrounds/'\n",
        "output_dir = '/content/drive/My Drive/RBCDSAI/Experiment4/Datasets/Waterbird Datasets/NewDataset/Birds95/LandBirdImages/'\n",
        "\n",
        "# Ensure output directory exists\n",
        "os.makedirs(output_dir, exist_ok=True)\n",
        "\n",
        "# Get the list of bird images and background images\n",
        "bird_images = os.listdir(birds_dir)\n",
        "background_images = os.listdir(backgrounds_dir)\n",
        "\n",
        "# Ensure the number of bird images and background images are the same\n",
        "assert len(bird_images) == len(background_images), \"Number of bird images and background images must be the same\"\n",
        "\n",
        "# Store combined images for plotting\n",
        "combined_images = []\n",
        "\n",
        "for bird_image_name, background_image_name in zip(bird_images, background_images):\n",
        "    bird_image_path = os.path.join(birds_dir, bird_image_name)\n",
        "    background_image_path = os.path.join(backgrounds_dir, background_image_name)\n",
        "\n",
        "    # Open the bird image and resize to 256x256\n",
        "    bird_image = Image.open(bird_image_path).convert(\"RGBA\")\n",
        "    bird_image = bird_image.resize((256, 256), Image.LANCZOS)\n",
        "\n",
        "    # Open the background image and resize to 256x256\n",
        "    background_image = Image.open(background_image_path).convert(\"RGBA\")\n",
        "    background_image = background_image.resize((256, 256), Image.LANCZOS)\n",
        "\n",
        "    # Convert images to numpy arrays\n",
        "    bird_array = np.array(bird_image)\n",
        "    background_array = np.array(background_image)\n",
        "\n",
        "    # Create a mask where the bird pixels are not black\n",
        "    mask = bird_array[..., :3] != [0, 0, 0]\n",
        "    mask = mask.all(axis=-1)\n",
        "\n",
        "    # Combine the bird and background images using the mask\n",
        "    combined_array = np.where(mask[..., None], bird_array, background_array)\n",
        "\n",
        "    # Convert the combined array back to an image\n",
        "    combined_image = Image.fromarray(combined_array, 'RGBA')\n",
        "    combined_image = combined_image.convert(\"RGB\")  # Convert to RGB for plotting\n",
        "\n",
        "    # Save the combined image\n",
        "    output_image_path = os.path.join(output_dir, f\"combined_{bird_image_name}\")\n",
        "    combined_image.save(output_image_path)\n",
        "\n",
        "    # Append to the list of combined images\n",
        "    combined_images.append(combined_image)\n",
        "\n",
        "# Plot some images\n",
        "n_images_to_plot = min(20, len(combined_images))\n",
        "\n",
        "plt.figure(figsize=(20, 10))\n",
        "for i in range(n_images_to_plot):\n",
        "    img = combined_images[i]\n",
        "\n",
        "    plt.subplot(4, 5, i + 1)  # 4 rows, 5 columns\n",
        "    plt.imshow(img)\n",
        "    plt.axis('off')\n",
        "    plt.title(f\"Image {i+1}\")\n",
        "\n",
        "plt.tight_layout()\n",
        "plt.show()\n",
        "\n",
        "print(f\"Combined images saved in: {output_dir}\")\n"
      ]
    },
    {
      "cell_type": "code",
      "execution_count": null,
      "metadata": {
        "id": "5env3ox7l-HU"
      },
      "outputs": [],
      "source": [
        "# Plot some images\n",
        "n_images_to_plot = min(20, len(combined_images))\n",
        "\n",
        "plt.figure(figsize=(20, 10))\n",
        "for i in range(n_images_to_plot):\n",
        "    img = combined_images[i]\n",
        "\n",
        "    plt.subplot(4, 5, i + 1)  # 4 rows, 5 columns\n",
        "    plt.imshow(img)\n",
        "    plt.axis('off')\n",
        "    plt.title(f\"Image {i+1}\")\n",
        "\n",
        "plt.tight_layout()\n",
        "plt.show()\n"
      ]
    },
    {
      "cell_type": "markdown",
      "metadata": {
        "id": "bxJfnJ05r4WV"
      },
      "source": [
        "water"
      ]
    },
    {
      "cell_type": "code",
      "execution_count": null,
      "metadata": {
        "id": "0PuaGm7Zr4HU"
      },
      "outputs": [],
      "source": [
        "from PIL import Image\n",
        "import os\n",
        "import matplotlib.pyplot as plt\n",
        "import numpy as np\n",
        "\n",
        "# Directories\n",
        "birds_dir = '/content/drive/My Drive/RBCDSAI/Experiment4/Datasets/Waterbird Datasets/NewDataset/WaterBirds/'\n",
        "backgrounds_dir = '/content/drive/My Drive/RBCDSAI/Experiment4/Datasets/Waterbird Datasets/NewDataset/WaterBackgrounds/'\n",
        "output_dir = '/content/drive/My Drive/RBCDSAI/Experiment4/Datasets/Waterbird Datasets/NewDataset/WaterBirdImages/'\n",
        "\n",
        "# Ensure output directory exists\n",
        "os.makedirs(output_dir, exist_ok=True)\n",
        "\n",
        "# Get the list of bird images and background images\n",
        "bird_images = os.listdir(birds_dir)\n",
        "background_images = os.listdir(backgrounds_dir)\n",
        "\n",
        "# Ensure the number of bird images and background images are the same\n",
        "assert len(bird_images) == len(background_images), \"Number of bird images and background images must be the same\"\n",
        "\n",
        "# Store combined images for plotting\n",
        "combined_images = []\n",
        "\n",
        "for bird_image_name, background_image_name in zip(bird_images, background_images):\n",
        "    bird_image_path = os.path.join(birds_dir, bird_image_name)\n",
        "    background_image_path = os.path.join(backgrounds_dir, background_image_name)\n",
        "\n",
        "    # Open the bird image and resize to 256x256\n",
        "    bird_image = Image.open(bird_image_path).convert(\"RGBA\")\n",
        "    bird_image = bird_image.resize((256, 256), Image.LANCZOS)\n",
        "\n",
        "    # Open the background image and resize to 256x256\n",
        "    background_image = Image.open(background_image_path).convert(\"RGBA\")\n",
        "    background_image = background_image.resize((256, 256), Image.LANCZOS)\n",
        "\n",
        "    # Convert images to numpy arrays\n",
        "    bird_array = np.array(bird_image)\n",
        "    background_array = np.array(background_image)\n",
        "\n",
        "    # Create a mask where the bird pixels are not black\n",
        "    mask = bird_array[..., :3] != [0, 0, 0]\n",
        "    mask = mask.all(axis=-1)\n",
        "\n",
        "    # Combine the bird and background images using the mask\n",
        "    combined_array = np.where(mask[..., None], bird_array, background_array)\n",
        "\n",
        "    # Convert the combined array back to an image\n",
        "    combined_image = Image.fromarray(combined_array, 'RGBA')\n",
        "    combined_image = combined_image.convert(\"RGB\")  # Convert to RGB for plotting\n",
        "\n",
        "    # Save the combined image\n",
        "    output_image_path = os.path.join(output_dir, f\"combined_{bird_image_name}\")\n",
        "    combined_image.save(output_image_path)\n",
        "\n",
        "    # Append to the list of combined images\n",
        "    combined_images.append(combined_image)\n",
        "\n",
        "# Plot some images\n",
        "n_images_to_plot = min(20, len(combined_images))\n",
        "\n",
        "plt.figure(figsize=(20, 10))\n",
        "for i in range(n_images_to_plot):\n",
        "    img = combined_images[i]\n",
        "\n",
        "    plt.subplot(4, 5, i + 1)  # 4 rows, 5 columns\n",
        "    plt.imshow(img)\n",
        "    plt.axis('off')\n",
        "    plt.title(f\"Image {i+1}\")\n",
        "\n",
        "plt.tight_layout()\n",
        "plt.show()\n",
        "\n",
        "print(f\"Combined images saved in: {output_dir}\")\n"
      ]
    },
    {
      "cell_type": "code",
      "execution_count": null,
      "metadata": {
        "id": "JmEqJgZcr4Ek"
      },
      "outputs": [],
      "source": []
    },
    {
      "cell_type": "code",
      "execution_count": null,
      "metadata": {
        "id": "xaVTXAxEr4B3"
      },
      "outputs": [],
      "source": []
    },
    {
      "cell_type": "code",
      "execution_count": null,
      "metadata": {
        "id": "IXuzy1xar39T"
      },
      "outputs": [],
      "source": [
        "import os\n",
        "import numpy as np\n",
        "from PIL import Image\n",
        "import random\n",
        "import shutil\n",
        "\n",
        "# Directories\n",
        "birds_dir = '/content/drive/My Drive/RBCDSAI/Experiment4/Datasets/Waterbird Datasets/NewDataset/BirdsSegmented/'\n",
        "backgrounds_dir = '/content/drive/My Drive/RBCDSAI/Experiment4/Datasets/Waterbird Datasets/NewDataset/Background/'\n",
        "output_dir = '/content/drive/My Drive/RBCDSAI/Experiment4/Datasets/Waterbird Datasets/NewDataset/Birds95/'\n",
        "\n",
        "# Ensure output directory exists\n",
        "os.makedirs(output_dir, exist_ok=True)\n",
        "\n",
        "# Function to load images from a folder and yield in batches\n",
        "def load_images_from_folder(folder, batch_size=100):\n",
        "    images = []\n",
        "    filenames = os.listdir(folder)\n",
        "    for i, filename in enumerate(filenames):\n",
        "        img = Image.open(os.path.join(folder, filename)).convert(\"RGBA\")\n",
        "        if img is not None:\n",
        "            images.append(img)\n",
        "        if len(images) == batch_size:\n",
        "            yield images\n",
        "            images = []\n",
        "    if images:\n",
        "        yield images\n",
        "\n",
        "# Function to combine bird and background images\n",
        "def combine_images(bird_img, background_img):\n",
        "    bird_img = bird_img.resize((256, 256), Image.LANCZOS)\n",
        "    background_img = background_img.resize((256, 256), Image.LANCZOS)\n",
        "    bird_array = np.array(bird_img)\n",
        "    background_array = np.array(background_img)\n",
        "    mask = bird_array[..., :3] != [0, 0, 0]\n",
        "    mask = mask.all(axis=-1)\n",
        "    combined_array = np.where(mask[..., None], bird_array, background_array)\n",
        "    return Image.fromarray(combined_array, 'RGBA').convert(\"RGB\")\n",
        "\n",
        "# Function to process and save batches\n",
        "def process_and_save_batches(bird_folders, background_images, correlation, split_ratio=0.8, batch_size=100):\n",
        "    total_images = sum(len(os.listdir(folder)) for folder in bird_folders)\n",
        "    train_count = int(total_images * split_ratio)\n",
        "    test_count = total_images - train_count\n",
        "\n",
        "    def save_batches(bird_folders, background_images, start_idx, end_idx, split_name):\n",
        "        bird_count = 0\n",
        "        batch_idx = 0\n",
        "        for bird_folder in bird_folders:\n",
        "            for bird_images in load_images_from_folder(bird_folder, batch_size):\n",
        "                if bird_count >= end_idx:\n",
        "                    return\n",
        "                if bird_count >= start_idx:\n",
        "                    batch_combined = []\n",
        "                    batch_labels = []\n",
        "                    for bird_img in bird_images:\n",
        "                        if correlation == \"inverse\":\n",
        "                            background_img = random.choice(water_backgrounds) if 'LandBirds' in bird_folder else random.choice(land_backgrounds)\n",
        "                        else:\n",
        "                            background_img = random.choice(background_images)\n",
        "                        combined_image = combine_images(bird_img, background_img)\n",
        "                        batch_combined.append(np.array(combined_image))\n",
        "                        batch_labels.append(0 if 'LandBirds' in bird_folder else 1)  # 0 for land bird, 1 for water bird\n",
        "\n",
        "                    combined_images = np.array(batch_combined)\n",
        "                    labels = np.array(batch_labels)\n",
        "\n",
        "                    # Save the batch\n",
        "                    np.save(os.path.join(output_dir, f'{split_name}_images_batch_{batch_idx}.npy'), combined_images)\n",
        "                    np.save(os.path.join(output_dir, f'{split_name}_labels_batch_{batch_idx}.npy'), labels)\n",
        "\n",
        "                    print(f\"Processed and saved {split_name} batch {batch_idx + 1} with {len(bird_images)} images\")\n",
        "                    batch_idx += 1\n",
        "                bird_count += len(bird_images)\n",
        "\n",
        "    # Process training batches\n",
        "    save_batches(bird_folders, background_images, 0, train_count, 'train')\n",
        "\n",
        "    # Process test batches\n",
        "    save_batches(bird_folders, background_images, train_count, total_images, 'test')\n",
        "\n",
        "# Load backgrounds\n",
        "land_backgrounds = list(load_images_from_folder(os.path.join(backgrounds_dir, 'LandBackgrounds')))\n",
        "water_backgrounds = list(load_images_from_folder(os.path.join(backgrounds_dir, 'WaterBackgrounds')))\n",
        "\n",
        "# Bird folders\n",
        "bird_folders = [os.path.join(birds_dir, 'LandBirds'), os.path.join(birds_dir, 'WaterBirds')]\n",
        "\n",
        "# Create training and test datasets (75% direct correlation, 5% inverse correlation)\n",
        "process_and_save_batches(bird_folders, land_backgrounds + water_backgrounds, correlation=\"direct\", split_ratio=0.75)\n",
        "process_and_save_batches(bird_folders, land_backgrounds + water_backgrounds, correlation=\"inverse\", split_ratio=0.05)\n",
        "\n",
        "# Create test dataset (20% direct correlation)\n",
        "process_and_save_batches(bird_folders, land_backgrounds + water_backgrounds, correlation=\"direct\", split_ratio=0.2)\n",
        "\n",
        "print(f\"Combined images and labels saved in: {output_dir}\")\n"
      ]
    },
    {
      "cell_type": "code",
      "execution_count": null,
      "metadata": {
        "id": "X4XKa5v0z991"
      },
      "outputs": [],
      "source": [
        "import os\n",
        "import numpy as np\n",
        "from PIL import Image\n",
        "from sklearn.model_selection import train_test_split\n",
        "\n",
        "# Directories\n",
        "birds_dir = '/content/drive/My Drive/RBCDSAI/Experiment4/Datasets/Waterbird Datasets/NewDataset/BirdsSegmented/'\n",
        "backgrounds_dir = '/content/drive/My Drive/RBCDSAI/Experiment4/Datasets/Waterbird Datasets/NewDataset/Background/'\n",
        "output_dir = '/content/drive/My Drive/RBCDSAI/Experiment4/Datasets/Waterbird Datasets/NewDataset/Birds95/'\n",
        "\n",
        "# Ensure output directory exists\n",
        "os.makedirs(output_dir, exist_ok=True)\n",
        "\n",
        "# Function to load images\n",
        "def load_images_from_folder(folder, batch_size=100):\n",
        "    images = []\n",
        "    filenames = os.listdir(folder)\n",
        "    for i, filename in enumerate(filenames):\n",
        "        if i > 0 and i % batch_size == 0:\n",
        "            yield images\n",
        "            images = []\n",
        "        img = Image.open(os.path.join(folder, filename)).convert(\"RGBA\")\n",
        "        if img is not None:\n",
        "            images.append(img)\n",
        "    if images:\n",
        "        yield images\n",
        "\n",
        "# Function to combine bird and background images\n",
        "def combine_images(bird_img, background_img):\n",
        "    bird_img = bird_img.resize((256, 256), Image.LANCZOS)\n",
        "    background_img = background_img.resize((256, 256), Image.LANCZOS)\n",
        "    bird_array = np.array(bird_img)\n",
        "    background_array = np.array(background_img)\n",
        "    mask = bird_array[..., :3] != [0, 0, 0]\n",
        "    mask = mask.all(axis=-1)\n",
        "    combined_array = np.where(mask[..., None], bird_array, background_array)\n",
        "    return Image.fromarray(combined_array, 'RGBA').convert(\"RGB\")\n",
        "\n",
        "# Function to create the dataset batch-wise\n",
        "def create_dataset_batch(bird_images_folder, background_images, correlation=\"direct\", batch_size=100):\n",
        "    batch_idx = 0\n",
        "    for bird_images in load_images_from_folder(bird_images_folder, batch_size):\n",
        "        batch_labels = []\n",
        "        batch_combined = []\n",
        "        for bird_img in bird_images:\n",
        "            if correlation == \"inverse\":\n",
        "                background_img = water_backgrounds_train[np.random.randint(0, len(water_backgrounds_train))] if bird_img in land_birds_train else land_backgrounds_train[np.random.randint(0, len(land_backgrounds_train))]\n",
        "            else:\n",
        "                background_img = background_images[np.random.randint(0, len(background_images))]\n",
        "            combined_image = combine_images(bird_img, background_img)\n",
        "            batch_combined.append(np.array(combined_image))\n",
        "            batch_labels.append(0 if bird_img in land_birds_train or bird_img in land_birds_test else 1)  # 0 for land bird, 1 for water bird\n",
        "\n",
        "        combined_images = np.array(batch_combined)\n",
        "        labels = np.array(batch_labels)\n",
        "\n",
        "        # Save the batch\n",
        "        np.save(os.path.join(output_dir, f'{correlation}_images_batch_{batch_idx}.npy'), combined_images)\n",
        "        np.save(os.path.join(output_dir, f'{correlation}_labels_batch_{batch_idx}.npy'), labels)\n",
        "\n",
        "        print(f\"Processed and saved batch {batch_idx + 1} with {len(bird_images)} images\")\n",
        "        batch_idx += 1\n",
        "\n",
        "# Load all backgrounds\n",
        "land_backgrounds = list(load_images_from_folder(os.path.join(backgrounds_dir, 'LandBackgrounds')))\n",
        "water_backgrounds = list(load_images_from_folder(os.path.join(backgrounds_dir, 'WaterBackgrounds')))\n",
        "\n",
        "# Split data into train and test sets (80-20 split)\n",
        "land_birds_train, land_birds_test = train_test_split(list(load_images_from_folder(os.path.join(birds_dir, 'LandBirds'))), test_size=0.2, random_state=42)\n",
        "water_birds_train, water_birds_test = train_test_split(list(load_images_from_folder(os.path.join(birds_dir, 'WaterBirds'))), test_size=0.2, random_state=42)\n",
        "\n",
        "# Create training dataset (75% direct correlation, 5% inverse correlation)\n",
        "create_dataset_batch(os.path.join(birds_dir, 'LandBirds'), land_backgrounds, correlation=\"direct\")\n",
        "create_dataset_batch(os.path.join(birds_dir, 'WaterBirds'), water_backgrounds, correlation=\"inverse\")\n",
        "\n",
        "# Create test dataset (20% direct correlation)\n",
        "create_dataset_batch(os.path.join(birds_dir, 'LandBirds'), land_backgrounds, correlation=\"direct\")\n",
        "create_dataset_batch(os.path.join(birds_dir, 'WaterBirds'), water_backgrounds, correlation=\"direct\")\n",
        "\n",
        "print(f\"Combined images and labels saved in: {output_dir}\")\n"
      ]
    },
    {
      "cell_type": "code",
      "execution_count": null,
      "metadata": {
        "id": "viekLXtTr360"
      },
      "outputs": [],
      "source": []
    },
    {
      "cell_type": "code",
      "execution_count": null,
      "metadata": {
        "id": "hM9rj44Mr34g"
      },
      "outputs": [],
      "source": []
    },
    {
      "cell_type": "code",
      "execution_count": null,
      "metadata": {
        "id": "hyf43jGar31W"
      },
      "outputs": [],
      "source": []
    },
    {
      "cell_type": "code",
      "execution_count": null,
      "metadata": {
        "id": "NW2NegoQgfZp"
      },
      "outputs": [],
      "source": [
        "# import os\n",
        "# import numpy as np\n",
        "# from PIL import Image\n",
        "# from sklearn.model_selection import train_test_split\n",
        "# import matplotlib.pyplot as plt\n",
        "# from collections import Counter\n",
        "\n",
        "# # Directories\n",
        "# birds_dir = '/content/drive/My Drive/RBCDSAI/Experiment4/Datasets/Waterbird Datasets/NewDataset/BirdsSegmented/'\n",
        "# backgrounds_dir = '/content/drive/My Drive/RBCDSAI/Experiment4/Datasets/Waterbird Datasets/NewDataset/Background/'\n",
        "# output_dir = '/content/drive/My Drive/RBCDSAI/Experiment4/Datasets/Waterbird Datasets/NewDataset/Birds95/'\n",
        "\n",
        "# # Ensure output directory exists\n",
        "# os.makedirs(output_dir, exist_ok=True)\n",
        "\n",
        "# # Function to load images\n",
        "# def load_images_from_folder(folder):\n",
        "#     images = []\n",
        "#     for filename in os.listdir(folder):\n",
        "#         img = Image.open(os.path.join(folder, filename)).convert(\"RGBA\")\n",
        "#         if img is not None:\n",
        "#             images.append(img)\n",
        "#     return images\n",
        "\n",
        "# # Load all images\n",
        "# land_birds = load_images_from_folder(os.path.join(birds_dir, 'LandBirds'))\n",
        "# water_birds = load_images_from_folder(os.path.join(birds_dir, 'WaterBirds'))\n",
        "# land_backgrounds = load_images_from_folder(os.path.join(backgrounds_dir, 'LandBackgrounds'))\n",
        "# water_backgrounds = load_images_from_folder(os.path.join(backgrounds_dir, 'WaterBackgrounds'))\n",
        "\n",
        "# # Split data into train and test sets (80-20 split)\n",
        "# land_birds_train, land_birds_test, land_backgrounds_train, land_backgrounds_test = train_test_split(land_birds, land_backgrounds, test_size=0.2, random_state=42)\n",
        "# water_birds_train, water_birds_test, water_backgrounds_train, water_backgrounds_test = train_test_split(water_birds, water_backgrounds, test_size=0.2, random_state=42)\n",
        "\n",
        "# # Function to combine bird and background images\n",
        "# def combine_images(bird_img, background_img):\n",
        "#     bird_img = bird_img.resize((256, 256), Image.LANCZOS)\n",
        "#     background_img = background_img.resize((256, 256), Image.LANCZOS)\n",
        "#     bird_array = np.array(bird_img)\n",
        "#     background_array = np.array(background_img)\n",
        "#     mask = bird_array[..., :3] != [0, 0, 0]\n",
        "#     mask = mask.all(axis=-1)\n",
        "#     combined_array = np.where(mask[..., None], bird_array, background_array)\n",
        "#     return Image.fromarray(combined_array, 'RGBA').convert(\"RGB\")\n",
        "\n",
        "# # Function to create the dataset\n",
        "# def create_dataset(bird_images, background_images, correlation=\"direct\"):\n",
        "#     combined_images = []\n",
        "#     labels = []\n",
        "#     for bird_img in bird_images:\n",
        "#         if correlation == \"inverse\":\n",
        "#             background_img = water_backgrounds_train[np.random.randint(0, len(water_backgrounds_train))] if bird_img in land_birds_train else land_backgrounds_train[np.random.randint(0, len(land_backgrounds_train))]\n",
        "#         else:\n",
        "#             background_img = background_images[np.random.randint(0, len(background_images))]\n",
        "#         combined_image = combine_images(bird_img, background_img)\n",
        "#         combined_images.append(np.array(combined_image))\n",
        "#         labels.append(0 if bird_img in land_birds_train or bird_img in land_birds_test else 1)  # 0 for land bird, 1 for water bird\n",
        "#     return np.array(combined_images), np.array(labels)\n",
        "\n",
        "# # Create training dataset (75% direct correlation, 5% inverse correlation)\n",
        "# land_birds_train_75 = land_birds_train[:int(0.75 * len(land_birds_train))]\n",
        "# land_birds_train_5 = land_birds_train[int(0.75 * len(land_birds_train)):]\n",
        "# water_birds_train_75 = water_birds_train[:int(0.75 * len(water_birds_train))]\n",
        "# water_birds_train_5 = water_birds_train[int(0.75 * len(water_birds_train)):]\n",
        "\n",
        "# train_images_75, train_labels_75 = create_dataset(land_birds_train_75 + water_birds_train_75, land_backgrounds_train + water_backgrounds_train, correlation=\"direct\")\n",
        "# train_images_5, train_labels_5 = create_dataset(land_birds_train_5 + water_birds_train_5, land_backgrounds_train + water_backgrounds_train, correlation=\"inverse\")\n",
        "# train_images = np.concatenate((train_images_75, train_images_5))\n",
        "# train_labels = np.concatenate((train_labels_75, train_labels_5))\n",
        "\n",
        "# # Create test dataset (20% direct correlation)\n",
        "# test_images, test_labels = create_dataset(land_birds_test + water_birds_test, land_backgrounds_test + water_backgrounds_test, correlation=\"direct\")\n",
        "\n",
        "# # Save combined images and labels as numpy files\n",
        "# np.save(os.path.join(output_dir, 'train_images.npy'), train_images)\n",
        "# np.save(os.path.join(output_dir, 'train_labels.npy'), train_labels)\n",
        "# np.save(os.path.join(output_dir, 'test_images.npy'), test_images)\n",
        "# np.save(os.path.join(output_dir, 'test_labels.npy'), test_labels)\n",
        "\n",
        "# # Plot some train images\n",
        "# n_images_to_plot = min(20, len(train_images))\n",
        "\n",
        "# plt.figure(figsize=(20, 10))\n",
        "# for i in range(n_images_to_plot):\n",
        "#     img = train_images[i]\n",
        "\n",
        "#     plt.subplot(4, 5, i + 1)  # 4 rows, 5 columns\n",
        "#     plt.imshow(img)\n",
        "#     plt.axis('off')\n",
        "#     plt.title(f\"Label {train_labels[i]}\")\n",
        "\n",
        "# plt.tight_layout()\n",
        "# plt.show()\n",
        "\n",
        "# print(f\"Combined images and labels saved in: {output_dir}\")\n",
        "\n",
        "# # Print the number of labels for each class in train_labels_75 and train_labels_5\n",
        "# train_labels_75_counter = Counter(train_labels_75)\n",
        "# train_labels_5_counter = Counter(train_labels_5)\n",
        "\n",
        "# print(f\"Number of labels in train_labels_75: {train_labels_75_counter}\")\n",
        "# print(f\"Number of labels in train_labels_5: {train_labels_5_counter}\")\n"
      ]
    },
    {
      "cell_type": "code",
      "execution_count": null,
      "metadata": {
        "id": "FI8NCcZqfR8u"
      },
      "outputs": [],
      "source": [
        "n_images_to_plot = min(20, len(train_images))\n",
        "\n",
        "plt.figure(figsize=(20, 10))\n",
        "for i in range(n_images_to_plot):\n",
        "    img = train_images[i]\n",
        "\n",
        "    plt.subplot(4, 5, i + 1)  # 4 rows, 5 columns\n",
        "    plt.imshow(img)\n",
        "    plt.axis('off')\n",
        "    plt.title(f\"Label {train_labels[i]}\")\n",
        "\n",
        "plt.tight_layout()\n",
        "plt.show()\n"
      ]
    },
    {
      "cell_type": "code",
      "execution_count": null,
      "metadata": {
        "id": "drZ6Pt2wfUi-"
      },
      "outputs": [],
      "source": [
        "# Print the number of labels for each class in train_labels_75 and train_labels_5\n",
        "train_labels_75_counter = Counter(train_labels_75)\n",
        "train_labels_5_counter = Counter(train_labels_5)\n",
        "\n",
        "print(f\"Number of labels in train_labels_75: {train_labels_75_counter}\")\n",
        "print(f\"Number of labels in train_labels_5: {train_labels_5_counter}\")\n"
      ]
    }
  ],
  "metadata": {
    "colab": {
      "provenance": [],
      "authorship_tag": "ABX9TyNOvUiPDrMpcD59Dgrj9jhU",
      "include_colab_link": true
    },
    "kernelspec": {
      "display_name": "Python 3",
      "name": "python3"
    },
    "language_info": {
      "name": "python"
    }
  },
  "nbformat": 4,
  "nbformat_minor": 0
}